{
 "cells": [
  {
   "cell_type": "markdown",
   "metadata": {},
   "source": [
    "\n",
    "### Librairies"
   ]
  },
  {
   "cell_type": "code",
   "execution_count": 1,
   "metadata": {},
   "outputs": [],
   "source": [
    "import findspark\n",
    "from pyspark import SparkContext\n",
    "from pyspark.sql import SQLContext\n",
    "from pyspark.sql import functions as func\n",
    "from pyspark.sql.window import Window\n",
    "import argparse\n",
    "from datetime import datetime\n",
    "import pandas as pd\n",
    "import re"
   ]
  },
  {
   "cell_type": "markdown",
   "metadata": {},
   "source": [
    "### Traitements"
   ]
  },
  {
   "cell_type": "markdown",
   "metadata": {},
   "source": [
    "#### Initialiser le SparkContext"
   ]
  },
  {
   "cell_type": "code",
   "execution_count": 2,
   "metadata": {},
   "outputs": [
    {
     "name": "stderr",
     "output_type": "stream",
     "text": [
      "24/06/28 14:49:49 WARN Utils: Your hostname, knackibot resolves to a loopback address: 127.0.1.1; using 192.168.1.192 instead (on interface wlp3s0)\n",
      "24/06/28 14:49:49 WARN Utils: Set SPARK_LOCAL_IP if you need to bind to another address\n",
      "Setting default log level to \"WARN\".\n",
      "To adjust logging level use sc.setLogLevel(newLevel). For SparkR, use setLogLevel(newLevel).\n",
      "24/06/28 14:49:50 WARN NativeCodeLoader: Unable to load native-hadoop library for your platform... using builtin-java classes where applicable\n",
      "/home/knackibol/miniconda3/envs/pyspark/lib/python3.12/site-packages/pyspark/sql/context.py:112: FutureWarning: Deprecated in 3.0.0. Use SparkSession.builder.getOrCreate() instead.\n",
      "  warnings.warn(\n"
     ]
    }
   ],
   "source": [
    "findspark.init()  # Trouve les exécutables dans le dossier SPARK_HOME\n",
    "\n",
    "sc = SparkContext(master=\"local[*]\")  # Créé un SparkContext local\n",
    "sql_c = SQLContext(sc)  # Instancie un SQLContext"
   ]
  },
  {
   "cell_type": "markdown",
   "metadata": {},
   "source": [
    "#### Lire l'échantillon des transactions"
   ]
  },
  {
   "cell_type": "code",
   "execution_count": 3,
   "metadata": {},
   "outputs": [],
   "source": [
    "data = sql_c.read.option(\"header\", True).csv(\"../data/transactions-small.csv\")"
   ]
  },
  {
   "cell_type": "markdown",
   "metadata": {},
   "source": [
    "#### Lire et formater l'échantillon des transactions frauduleuses"
   ]
  },
  {
   "cell_type": "code",
   "execution_count": 4,
   "metadata": {},
   "outputs": [
    {
     "name": "stderr",
     "output_type": "stream",
     "text": [
      "[Stage 1:>                                                          (0 + 1) / 1]\r"
     ]
    },
    {
     "name": "stdout",
     "output_type": "stream",
     "text": [
      "+---------+------------------+--------------+\n",
      "| Account2|Receiving Currency|has_laundering|\n",
      "+---------+------------------+--------------+\n",
      "|80279F810| Australian Dollar|          true|\n",
      "|80279F8B0| Australian Dollar|          true|\n",
      "|800E36A50| Australian Dollar|          true|\n",
      "|801BF8E70|              Euro|          true|\n",
      "|80074C7E0|              Euro|          true|\n",
      "+---------+------------------+--------------+\n",
      "only showing top 5 rows\n",
      "\n"
     ]
    },
    {
     "name": "stderr",
     "output_type": "stream",
     "text": [
      "                                                                                \r"
     ]
    }
   ],
   "source": [
    "# Lire le fichier texte\n",
    "with open('../data/laundering-small.txt', 'r') as file:\n",
    "    file_content = file.read()\n",
    "\n",
    "# Séparer les différentes sections de tentatives de blanchiment d'argent\n",
    "attempts = re.split(r'BEGIN LAUNDERING ATTEMPT - .+\\n', file_content)\n",
    "attempts = [attempt.strip() for attempt in attempts if attempt.strip()]  # Supprimer les chaînes vides\n",
    "\n",
    "# Initialiser la liste pour stocker toutes les transactions frauduleuses\n",
    "frauds = []\n",
    "\n",
    "# Lire les transactions frauduleuses de chaque section\n",
    "for attempt in attempts:\n",
    "    for line in attempt.split('\\n'):\n",
    "        if not line.startswith('END LAUNDERING ATTEMPT'):\n",
    "            frauds.append(line.split(','))\n",
    "\n",
    "# Formater dans un dataframe\n",
    "frauds = pd.DataFrame(frauds,\n",
    "                            columns= [ \\\n",
    "                                \"Timestamp\",\"From Bank\",\"Account2\",\"To Bank\",\"Account4\",\n",
    "                                \"Amount Received\",\"Receiving Currency\",\"Amount Paid\",\n",
    "                                \"Payment Currency\",\"Payment Format\",\"status\"\n",
    "                                ])\n",
    "\n",
    "# Agréger la table des transactions frauduleuses à la maille (compte x devis)\n",
    "frauds.drop_duplicates([\"Account2\",\"Receiving Currency\"])\n",
    "frauds = frauds[[\"Account2\",\"Receiving Currency\"]]\n",
    "frauds[\"has_laundering\"] = True\n",
    "frauds.head()\n",
    "\n",
    "# Convertir frauds en spark dataframe\n",
    "frauds = sql_c.createDataFrame(frauds)\n",
    "\n",
    "frauds.show(5)\n"
   ]
  },
  {
   "cell_type": "markdown",
   "metadata": {},
   "source": [
    "#### Consulter les premières lignes de la table des transactions"
   ]
  },
  {
   "cell_type": "code",
   "execution_count": 5,
   "metadata": {},
   "outputs": [
    {
     "name": "stdout",
     "output_type": "stream",
     "text": [
      "+----------------+---------+---------+-------+---------+---------------+------------------+-----------+----------------+--------------+\n",
      "|       Timestamp|From Bank| Account2|To Bank| Account4|Amount Received|Receiving Currency|Amount Paid|Payment Currency|Payment Format|\n",
      "+----------------+---------+---------+-------+---------+---------------+------------------+-----------+----------------+--------------+\n",
      "|2022/09/01 00:08|      011|8000ECA90|    011|8000ECA90|     3195403.00|         US Dollar| 3195403.00|       US Dollar|  Reinvestment|\n",
      "|2022/09/01 00:21|    03402|80021DAD0|  03402|80021DAD0|        1858.96|         US Dollar|    1858.96|       US Dollar|  Reinvestment|\n",
      "|2022/09/01 00:00|      011|8000ECA90| 001120|8006AA910|      592571.00|         US Dollar|  592571.00|       US Dollar|        Cheque|\n",
      "|2022/09/01 00:16|    03814|8006AD080|  03814|8006AD080|          12.32|         US Dollar|      12.32|       US Dollar|  Reinvestment|\n",
      "|2022/09/01 00:00|      020|8006AD530|    020|8006AD530|        2941.56|         US Dollar|    2941.56|       US Dollar|  Reinvestment|\n",
      "+----------------+---------+---------+-------+---------+---------------+------------------+-----------+----------------+--------------+\n",
      "only showing top 5 rows\n",
      "\n"
     ]
    }
   ],
   "source": [
    "data.show(5)"
   ]
  },
  {
   "cell_type": "markdown",
   "metadata": {},
   "source": [
    "#### Convertir certaines variables"
   ]
  },
  {
   "cell_type": "code",
   "execution_count": 6,
   "metadata": {},
   "outputs": [
    {
     "name": "stdout",
     "output_type": "stream",
     "text": [
      "root\n",
      " |-- Timestamp: timestamp (nullable = true)\n",
      " |-- From Bank: string (nullable = true)\n",
      " |-- Account2: string (nullable = true)\n",
      " |-- To Bank: string (nullable = true)\n",
      " |-- Account4: string (nullable = true)\n",
      " |-- Amount Received: double (nullable = true)\n",
      " |-- Receiving Currency: string (nullable = true)\n",
      " |-- Amount Paid: double (nullable = true)\n",
      " |-- Payment Currency: string (nullable = true)\n",
      " |-- Payment Format: string (nullable = true)\n",
      "\n"
     ]
    }
   ],
   "source": [
    "data = data \\\n",
    "    .withColumn(\"Timestamp\", func.to_timestamp(\"Timestamp\",\"yyyy/MM/dd HH:mm\")) \\\n",
    "    .withColumn(\"Amount Received\", func.col(\"Amount Received\").cast(\"double\")) \\\n",
    "    .withColumn(\"Amount Paid\", func.col(\"Amount Paid\").cast(\"double\"))\n",
    "\n",
    "data.printSchema()"
   ]
  },
  {
   "cell_type": "markdown",
   "metadata": {},
   "source": [
    "#### Créer une fenêtre temporelle sur le maillage (compte x devise)"
   ]
  },
  {
   "cell_type": "code",
   "execution_count": 7,
   "metadata": {},
   "outputs": [],
   "source": [
    "windowSpec = Window.partitionBy(\"Account2\",\"Receiving Currency\").orderBy(\"Timestamp\")     "
   ]
  },
  {
   "cell_type": "markdown",
   "metadata": {},
   "source": [
    "#### Calculer le délai entre les transactions à la maille (compte x devise)"
   ]
  },
  {
   "cell_type": "code",
   "execution_count": 8,
   "metadata": {},
   "outputs": [
    {
     "name": "stderr",
     "output_type": "stream",
     "text": [
      "[Stage 5:>                                                          (0 + 1) / 1]\r"
     ]
    },
    {
     "name": "stdout",
     "output_type": "stream",
     "text": [
      "+-------------------+---------+---------+-------+---------+---------------+------------------+-----------+----------------+--------------+-------------------+-----------------+\n",
      "|          Timestamp|From Bank| Account2|To Bank| Account4|Amount Received|Receiving Currency|Amount Paid|Payment Currency|Payment Format| previous_Timestamp|delay_transaction|\n",
      "+-------------------+---------+---------+-------+---------+---------------+------------------+-----------+----------------+--------------+-------------------+-----------------+\n",
      "|2022-09-01 00:00:00|      070|10042B6F0|    012|80123D560|       30774.69|              Yuan|   30774.69|            Yuan|   Credit Card|               null|             null|\n",
      "|2022-09-01 00:00:00|      070|10042B6F0|    015|803A33A80|       42452.75|              Yuan|   42452.75|            Yuan|   Credit Card|2022-09-01 00:00:00|                0|\n",
      "|2022-09-01 00:00:00|      070|10042B6F0|    015|803A33A80|     1221938.71|              Yuan| 1221938.71|            Yuan|          Cash|2022-09-01 00:00:00|                0|\n",
      "|2022-09-01 00:00:00|      070|10042B6F0|0110522|803D85C70|        4849.27|              Yuan|    4849.27|            Yuan|        Cheque|2022-09-01 00:00:00|                0|\n",
      "|2022-09-01 00:00:00|      070|10042B6F0|0110299|80448B440|       84696.34|              Yuan|   84696.34|            Yuan|   Credit Card|2022-09-01 00:00:00|                0|\n",
      "+-------------------+---------+---------+-------+---------+---------------+------------------+-----------+----------------+--------------+-------------------+-----------------+\n",
      "only showing top 5 rows\n",
      "\n"
     ]
    },
    {
     "name": "stderr",
     "output_type": "stream",
     "text": [
      "                                                                                \r"
     ]
    }
   ],
   "source": [
    "data = data \\\n",
    "    .withColumn(\"previous_Timestamp\",\n",
    "                func.lag(\"Timestamp\").over(windowSpec)\n",
    "                ) \\\n",
    "    .withColumn(\"delay_transaction\",\n",
    "                func.when(\n",
    "                    func.col(\"previous_Timestamp\").isNotNull(),\n",
    "                    func.col(\"Timestamp\").cast(\"long\") - func.col(\"previous_Timestamp\").cast(\"long\")\n",
    "                    ) \\\n",
    "                    .otherwise(None)\n",
    "                )\n",
    "data.show(5)"
   ]
  },
  {
   "cell_type": "markdown",
   "metadata": {},
   "source": [
    "#### Calculer le montant total reçu pour chaque maille (compte x devise)"
   ]
  },
  {
   "cell_type": "code",
   "execution_count": 9,
   "metadata": {},
   "outputs": [
    {
     "name": "stderr",
     "output_type": "stream",
     "text": [
      "[Stage 6:=============================>                             (4 + 4) / 8]\r"
     ]
    },
    {
     "name": "stdout",
     "output_type": "stream",
     "text": [
      "+---------+----------------+--------------------+\n",
      "| Account4|Payment Currency|            received|\n",
      "+---------+----------------+--------------------+\n",
      "|800C2E610|       US Dollar|  14792.869999999999|\n",
      "|80018AC80|       US Dollar|2.1719611776999998E8|\n",
      "|804397DC0|       US Dollar|           175191.34|\n",
      "|8001FC2C0|       US Dollar|           149586.38|\n",
      "|800201980|       US Dollar|  1667720.6100000006|\n",
      "+---------+----------------+--------------------+\n",
      "only showing top 5 rows\n",
      "\n"
     ]
    },
    {
     "name": "stderr",
     "output_type": "stream",
     "text": [
      "                                                                                \r"
     ]
    }
   ],
   "source": [
    "data_receiver = data \\\n",
    "    .groupby(\"Account4\",\"Payment Currency\") \\\n",
    "    .agg(\n",
    "        func.sum(\"Amount Paid\").alias(\"received\")\n",
    "    )\n",
    "\n",
    "data_receiver.show(5)"
   ]
  },
  {
   "cell_type": "markdown",
   "metadata": {},
   "source": [
    "#### Calculer, à la maille (compte x devise), le nombre de transactions émises, le délai moyen entre celles-ci, et le montant total émis"
   ]
  },
  {
   "cell_type": "code",
   "execution_count": 10,
   "metadata": {},
   "outputs": [
    {
     "name": "stderr",
     "output_type": "stream",
     "text": [
      "[Stage 11:>                                                         (0 + 1) / 1]\r"
     ]
    },
    {
     "name": "stdout",
     "output_type": "stream",
     "text": [
      "+---------+------------------+----------------+----------------------+--------------------+\n",
      "| Account2|Receiving Currency|num_transactions|avg_delay_transactions|         withdrawals|\n",
      "+---------+------------------+----------------+----------------------+--------------------+\n",
      "|10042B6F0|              Yuan|           42385|                    20|1.059043235620106...|\n",
      "|10042BA08|       Saudi Riyal|           22417|                    39|2.331883999062970...|\n",
      "|800044900|         US Dollar|             135|                  6253|  1852232.4500000016|\n",
      "|8000496E0|             Ruble|              51|                 15434| 5.072754238999996E8|\n",
      "|80004B700|   Canadian Dollar|              54|                 15481|   370375.8500000001|\n",
      "+---------+------------------+----------------+----------------------+--------------------+\n",
      "only showing top 5 rows\n",
      "\n"
     ]
    },
    {
     "name": "stderr",
     "output_type": "stream",
     "text": [
      "                                                                                \r"
     ]
    }
   ],
   "source": [
    "data_sender = data \\\n",
    "    .groupby(\"Account2\",\"Receiving Currency\") \\\n",
    "    .agg(\n",
    "        func.count(\"*\").alias(\"num_transactions\"),\n",
    "        func.round(func.avg(\"delay_transaction\")).cast(\"int\").alias(\"avg_delay_transactions\"),\n",
    "        func.sum(\"Amount Received\").alias(\"withdrawals\")\n",
    "    )\n",
    "\n",
    "# Libérer de la mémoire\n",
    "data = None\n",
    "\n",
    "data_sender.show(5)"
   ]
  },
  {
   "cell_type": "markdown",
   "metadata": {},
   "source": [
    "#### Joindre toutes les colonnes dans une même table de sortie"
   ]
  },
  {
   "cell_type": "code",
   "execution_count": 11,
   "metadata": {},
   "outputs": [
    {
     "name": "stderr",
     "output_type": "stream",
     "text": [
      "[Stage 19:>                                                         (0 + 1) / 1]\r"
     ]
    },
    {
     "name": "stdout",
     "output_type": "stream",
     "text": [
      "+---------+------------------+----------------+----------------------+--------------------+-------------------+--------------+\n",
      "| Account2|Receiving Currency|num_transactions|avg_delay_transactions|         withdrawals|           received|has_laundering|\n",
      "+---------+------------------+----------------+----------------------+--------------------+-------------------+--------------+\n",
      "|10042B6F0|              Yuan|           42385|                    20|1.059043235620106...| 1421533.4500000004|         false|\n",
      "|10042BA08|       Saudi Riyal|           22417|                    39|2.331883999062970...| 353520.13000000006|         false|\n",
      "|800044900|         US Dollar|             135|                  6253|  1852232.4500000016| 40177.900000000016|         false|\n",
      "|8000496E0|             Ruble|              51|                 15434| 5.072754238999996E8|8.019665816000001E7|         false|\n",
      "|80004B700|   Canadian Dollar|              54|                 15481|   370375.8500000001|            9885.53|         false|\n",
      "+---------+------------------+----------------+----------------------+--------------------+-------------------+--------------+\n",
      "only showing top 5 rows\n",
      "\n"
     ]
    },
    {
     "name": "stderr",
     "output_type": "stream",
     "text": [
      "                                                                                \r"
     ]
    }
   ],
   "source": [
    "out_table = data_sender \\\n",
    "    .join(\n",
    "        data_receiver,\n",
    "        (data_sender[\"Account2\"] == data_receiver[\"Account4\"]) & \\\n",
    "            (data_sender[\"Receiving Currency\"] == data_receiver[\"Payment Currency\"]),\n",
    "        \"left\"\n",
    "        ) \\\n",
    "    .join(\n",
    "        frauds,\n",
    "        [\"Account2\",\"Receiving Currency\"],\n",
    "        \"left\"\n",
    "    ) \\\n",
    "    .fillna(False,[\"has_laundering\"]) \\\n",
    "    .drop(*[\"Account4\",\"Payment Currency\"])\n",
    "\n",
    "data_receiver, data_sender, frauds= None, None, None\n",
    "\n",
    "out_table.show(5)"
   ]
  },
  {
   "cell_type": "markdown",
   "metadata": {},
   "source": [
    "#### Quelques statistiques descriptives"
   ]
  },
  {
   "cell_type": "code",
   "execution_count": 12,
   "metadata": {},
   "outputs": [
    {
     "name": "stderr",
     "output_type": "stream",
     "text": [
      "24/06/28 14:50:48 WARN package: Truncated the string representation of a plan since it was too large. This behavior can be adjusted by setting 'spark.sql.debug.maxToStringFields'.\n",
      "24/06/28 14:51:06 WARN RowBasedKeyValueBatch: Calling spill() on RowBasedKeyValueBatch. Will not spill but return 0.\n",
      "[Stage 27:===================================================>      (8 + 1) / 9]\r"
     ]
    },
    {
     "name": "stdout",
     "output_type": "stream",
     "text": [
      "+-------+-----------------+----------------------+--------------------+-------------------+\n",
      "|summary| num_transactions|avg_delay_transactions|         withdrawals|           received|\n",
      "+-------+-----------------+----------------------+--------------------+-------------------+\n",
      "|  count|           690906|                478257|              690906|             550527|\n",
      "|   mean|10.03275554127479|    199478.70502888615|6.3386390574794784E7|5.632632744592764E7|\n",
      "| stddev|328.9970842586872|    239709.79695164334|1.065735430877576...|6.232381278807476E9|\n",
      "|    min|                1|                     0|              1.0E-6|             1.0E-6|\n",
      "|    max|           222037|               1101960| 7.29023328537458E12|3.64511664480207E12|\n",
      "+-------+-----------------+----------------------+--------------------+-------------------+\n",
      "\n"
     ]
    },
    {
     "name": "stderr",
     "output_type": "stream",
     "text": [
      "                                                                                \r"
     ]
    }
   ],
   "source": [
    "num_cols = [name for name,type in out_table.dtypes if type not in ['string','boolean']]    \n",
    "out_table[num_cols].describe().show()"
   ]
  },
  {
   "cell_type": "code",
   "execution_count": 14,
   "metadata": {},
   "outputs": [
    {
     "name": "stderr",
     "output_type": "stream",
     "text": [
      "                                                                                \r"
     ]
    },
    {
     "name": "stdout",
     "output_type": "stream",
     "text": [
      "+------------------------------------------------------------+\n",
      "|Nombre de mailles concernées par une transaction frauduleuse|\n",
      "+------------------------------------------------------------+\n",
      "|                                                        1023|\n",
      "+------------------------------------------------------------+\n",
      "\n"
     ]
    }
   ],
   "source": [
    "out_table \\\n",
    "    .withColumn(\"has_laundering\",func.col(\"has_laundering\").cast(\"int\")) \\\n",
    "    .agg(func.sum(\"has_laundering\").alias(\"Nombre de mailles concernées par une transaction frauduleuse\")) \\\n",
    "    .show()\n"
   ]
  }
 ],
 "metadata": {
  "kernelspec": {
   "display_name": "pyspark",
   "language": "python",
   "name": "python3"
  },
  "language_info": {
   "codemirror_mode": {
    "name": "ipython",
    "version": 3
   },
   "file_extension": ".py",
   "mimetype": "text/x-python",
   "name": "python",
   "nbconvert_exporter": "python",
   "pygments_lexer": "ipython3",
   "version": "3.1.-1"
  }
 },
 "nbformat": 4,
 "nbformat_minor": 2
}
